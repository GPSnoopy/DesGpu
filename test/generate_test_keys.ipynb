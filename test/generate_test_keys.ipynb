{
 "cells": [
  {
   "cell_type": "code",
   "execution_count": 28,
   "metadata": {},
   "outputs": [],
   "source": [
    "import crypt\n",
    "import random\n",
    "import string"
   ]
  },
  {
   "cell_type": "markdown",
   "metadata": {},
   "source": [
    "## Settings"
   ]
  },
  {
   "cell_type": "code",
   "execution_count": 29,
   "metadata": {},
   "outputs": [
    {
     "name": "stdout",
     "output_type": "stream",
     "text": [
      "Number of keys to generate: 10000\n",
      "Valid password characters: 0123456789abcdefghijklmnopqrstuvwxyzABCDEFGHIJKLMNOPQRSTUVWXYZ!\"#$%&'()*+,-./:;<=>?@[\\]^_`{|}~\n"
     ]
    }
   ],
   "source": [
    "num_keys = 10_000\n",
    "valid_chars = string.digits + string.ascii_letters + string.punctuation\n",
    "\n",
    "print('Number of keys to generate:', num_keys)\n",
    "print('Valid password characters:', valid_chars)"
   ]
  },
  {
   "cell_type": "markdown",
   "metadata": {},
   "source": [
    "## Passwords Generator"
   ]
  },
  {
   "cell_type": "code",
   "execution_count": 30,
   "metadata": {},
   "outputs": [],
   "source": [
    "random.seed(42)\n",
    "\n",
    "keys = []\n",
    "\n",
    "for k in range(num_keys):\n",
    "    key = ''\n",
    "    for c in range(random.randint(1, 8)):\n",
    "        key += valid_chars[random.randrange(0, len(valid_chars))]\n",
    "    keys.append(key)"
   ]
  },
  {
   "cell_type": "markdown",
   "metadata": {},
   "source": [
    "## DES Password Hashes"
   ]
  },
  {
   "cell_type": "code",
   "execution_count": 31,
   "metadata": {},
   "outputs": [],
   "source": [
    "hashes = []\n",
    "\n",
    "for key in keys:\n",
    "    hash = crypt.crypt(key, '01')\n",
    "    hashes.append((key, hash))\n",
    "    \n",
    "with open('test_passwords_salt01.txt', 'w') as file:\n",
    "    for hash in hashes:\n",
    "        file.write(hash[0] + ' ' + hash[1] + '\\n')"
   ]
  },
  {
   "cell_type": "code",
   "execution_count": 32,
   "metadata": {},
   "outputs": [],
   "source": [
    "hashes = []\n",
    "\n",
    "for key in keys:\n",
    "    hash = crypt.crypt(key, 'XY')\n",
    "    hashes.append((key, hash))\n",
    "    \n",
    "with open('test_passwords_saltXY.txt', 'w') as file:\n",
    "    for hash in hashes:\n",
    "        file.write(hash[0] + ' ' + hash[1] + '\\n')"
   ]
  },
  {
   "cell_type": "code",
   "execution_count": null,
   "metadata": {},
   "outputs": [],
   "source": []
  }
 ],
 "metadata": {
  "kernelspec": {
   "display_name": "Python 3",
   "language": "python",
   "name": "python3"
  },
  "language_info": {
   "codemirror_mode": {
    "name": "ipython",
    "version": 3
   },
   "file_extension": ".py",
   "mimetype": "text/x-python",
   "name": "python",
   "nbconvert_exporter": "python",
   "pygments_lexer": "ipython3",
   "version": "3.8.5"
  }
 },
 "nbformat": 4,
 "nbformat_minor": 4
}
